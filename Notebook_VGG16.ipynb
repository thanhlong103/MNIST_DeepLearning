{
  "cells": [
    {
      "cell_type": "markdown",
      "metadata": {
        "id": "Y6DyphAUEBOi"
      },
      "source": [
        "# Assignment 1: Deep learning with VGG16 {-}\n",
        "\n",
        "The dataset you will be working on is MNIST dataset. This is a dataset of 60,000 28x28 grayscale images of the 10 digits, along with a test set of 10,000 images.\n",
        "\n",
        "### Reference {-}:\n",
        "- Simonyan, K., and Zisserman, A. 2014b. Very deep convolutional networks for large-scale image recognition. arXiv preprint arXiv:1409.1556, https://arxiv.org/abs/1409.1556."
      ]
    },
    {
      "cell_type": "markdown",
      "metadata": {
        "id": "L2l2tYgIEBOr"
      },
      "source": [
        "## VGG16 architecture\n",
        "\n",
        "![alt text](https://docs.google.com/uc?export=download&id=1XdD7iJxllG1XDwJA5LhOUp5R7LX3ltJr)\n",
        "\n",
        "![alt text](https://docs.google.com/uc?export=download&id=1PUJN_QSgcvIR8yYX9tWM12nohwGMgfIu)\n",
        "\n",
        "Some characteristics of the VGG16 architecture:\n",
        "- Kernel size of all convolutional layers is 3x3.\n",
        "- Numbers of filters of every block are sequentially 64, 128, 256, 512, 512 as in the figure.\n",
        "- All activation functions are ReLUs, except the output layer which uses softmax.\n",
        "- Dropout probability used after dense layers is 0.5.\n",
        "- Assume that the input size is **32x32x1**."
      ]
    },
    {
      "cell_type": "code",
      "execution_count": null,
      "metadata": {
        "id": "o7yiMO-bEBOl"
      },
      "outputs": [],
      "source": [
        "# Import libraries\n",
        "import tensorflow as tf\n",
        "from tensorflow import keras\n",
        "import numpy as np\n",
        "import matplotlib.pyplot as plt"
      ]
    },
    {
      "cell_type": "code",
      "execution_count": null,
      "metadata": {
        "colab": {
          "base_uri": "https://localhost:8080/"
        },
        "id": "M6_ZhoDnfROl",
        "outputId": "78599acd-e085-4908-d83e-0708747d03c6"
      },
      "outputs": [
        {
          "name": "stdout",
          "output_type": "stream",
          "text": [
            "Downloading data from https://storage.googleapis.com/tensorflow/tf-keras-datasets/mnist.npz\n",
            "11490434/11490434 [==============================] - 0s 0us/step\n"
          ]
        }
      ],
      "source": [
        "# Load the MNIST dataset and split train/test\n",
        "(X_train, y_train), (X_test, y_test) = keras.datasets.mnist.load_data()\n",
        "\n",
        "# Normalize data to the value range [0,1]\n",
        "X_train, X_test = X_train/255.0, X_test/255.0"
      ]
    },
    {
      "cell_type": "code",
      "execution_count": null,
      "metadata": {
        "colab": {
          "base_uri": "https://localhost:8080/"
        },
        "id": "v9EqVmHqfoL9",
        "outputId": "31f3bd2b-e091-4a83-989c-b0a06f859459"
      },
      "outputs": [
        {
          "name": "stdout",
          "output_type": "stream",
          "text": [
            "Train shape: X_train = (60000, 28, 28), y_train = (60000,)\n",
            "Test shape: X_test = (10000, 28, 28), y_test = (10000,)\n"
          ]
        }
      ],
      "source": [
        "# Show shape of the training and test data\n",
        "print(\"Train shape: X_train = \" + str(X_train.shape) + \", y_train = \" + str(y_train.shape))\n",
        "print(\"Test shape: X_test = \" + str(X_test.shape) + \", y_test = \" + str(y_test.shape))"
      ]
    },
    {
      "cell_type": "code",
      "execution_count": null,
      "metadata": {
        "colab": {
          "base_uri": "https://localhost:8080/"
        },
        "id": "6bhKp2F8ZGG9",
        "outputId": "1df93cf5-7eac-407f-9a41-fd24deae3597"
      },
      "outputs": [
        {
          "name": "stdout",
          "output_type": "stream",
          "text": [
            "Train shape: X_train = (54000, 28, 28), y_train = (54000,)\n",
            "Val shape: X_val = (6000, 28, 28), y_val = (6000,)\n",
            "Test shape: X_test = (10000, 28, 28), y_test = (10000,)\n"
          ]
        }
      ],
      "source": [
        "# Split train/valid from the training set\n",
        "from sklearn.model_selection import train_test_split\n",
        "X_train, X_val, y_train, y_val = train_test_split(X_train, y_train, test_size=0.1, random_state=5)\n",
        "\n",
        "print(\"Train shape: X_train = \" + str(X_train.shape) + \", y_train = \" + str(y_train.shape))\n",
        "print(\"Val shape: X_val = \" + str(X_val.shape) + \", y_val = \" + str(y_val.shape))\n",
        "print(\"Test shape: X_test = \" + str(X_test.shape) + \", y_test = \" + str(y_test.shape))"
      ]
    },
    {
      "cell_type": "code",
      "execution_count": null,
      "metadata": {
        "colab": {
          "base_uri": "https://localhost:8080/",
          "height": 447
        },
        "id": "-c0ukRSVgAZS",
        "outputId": "5820a454-4464-4b96-beea-d01ce14d600e"
      },
      "outputs": [
        {
          "name": "stdout",
          "output_type": "stream",
          "text": [
            "Image shape after being resized:  (32, 32)\n"
          ]
        },
        {
          "data": {
            "image/png": "[encoded data removed]",
            "text/plain": [
              "<Figure size 640x480 with 1 Axes>"
            ]
          },
          "metadata": {},
          "output_type": "display_data"
        }
      ],
      "source": [
        "# Install OpenCV library to process images.\n",
        "# !pip3 install opencv-python\n",
        "\n",
        "### Resize an image\n",
        "import cv2\n",
        "resized_img = cv2.resize(X_train[0], dsize=(32,32)) # Resize the first sample in the training set to 32x32.\n",
        "print(\"Image shape after being resized: \", resized_img.shape)\n",
        "\n",
        "# Show an image\n",
        "plt.imshow(X_train[2,:,:])\n",
        "plt.show()"
      ]
    },
    {
      "cell_type": "code",
      "execution_count": null,
      "metadata": {
        "colab": {
          "base_uri": "https://localhost:8080/"
        },
        "id": "DQfcepEOgX3t",
        "outputId": "f15beb29-f498-4bff-d2e2-91effcc431b7"
      },
      "outputs": [
        {
          "name": "stdout",
          "output_type": "stream",
          "text": [
            "Model: \"AlexNet\"\n",
            "_________________________________________________________________\n",
            " Layer (type)                Output Shape              Param #   \n",
            "=================================================================\n",
            " Block_1_Conv (Conv2D)       (None, 28, 28, 64)        640       \n",
            "                                                                 \n",
            " activation (Activation)     (None, 28, 28, 64)        0         \n",
            "                                                                 \n",
            " Block_1_MaxPool (MaxPooling  (None, 14, 14, 64)       0         \n",
            " 2D)                                                             \n",
            "                                                                 \n",
            " Block_2_Conv (Conv2D)       (None, 14, 14, 128)       73856     \n",
            "                                                                 \n",
            " activation_1 (Activation)   (None, 14, 14, 128)       0         \n",
            "                                                                 \n",
            " Block_2_maxPool (MaxPooling  (None, 7, 7, 128)        0         \n",
            " 2D)                                                             \n",
            "                                                                 \n",
            " Block_3_Conv (Conv2D)       (None, 7, 7, 256)         295168    \n",
            "                                                                 \n",
            " activation_2 (Activation)   (None, 7, 7, 256)         0         \n",
            "                                                                 \n",
            " Block_3_maxPool (MaxPooling  (None, 4, 4, 256)        0         \n",
            " 2D)                                                             \n",
            "                                                                 \n",
            " Block_4_Conv (Conv2D)       (None, 4, 4, 512)         1180160   \n",
            "                                                                 \n",
            " activation_3 (Activation)   (None, 4, 4, 512)         0         \n",
            "                                                                 \n",
            " Block_4_maxPool (MaxPooling  (None, 2, 2, 512)        0         \n",
            " 2D)                                                             \n",
            "                                                                 \n",
            " Block_5_Conv (Conv2D)       (None, 2, 2, 512)         2359808   \n",
            "                                                                 \n",
            " activation_4 (Activation)   (None, 2, 2, 512)         0         \n",
            "                                                                 \n",
            " Block_5_MaxPool (MaxPooling  (None, 1, 1, 512)        0         \n",
            " 2D)                                                             \n",
            "                                                                 \n",
            " flatten (Flatten)           (None, 512)               0         \n",
            "                                                                 \n",
            " dense (Dense)               (None, 4096)              2101248   \n",
            "                                                                 \n",
            " activation_5 (Activation)   (None, 4096)              0         \n",
            "                                                                 \n",
            " dropout (Dropout)           (None, 4096)              0         \n",
            "                                                                 \n",
            " dense_1 (Dense)             (None, 4096)              16781312  \n",
            "                                                                 \n",
            " batch_normalization (BatchN  (None, 4096)             16384     \n",
            " ormalization)                                                   \n",
            "                                                                 \n",
            " activation_6 (Activation)   (None, 4096)              0         \n",
            "                                                                 \n",
            " dropout_1 (Dropout)         (None, 4096)              0         \n",
            "                                                                 \n",
            " dense_2 (Dense)             (None, 1000)              4097000   \n",
            "                                                                 \n",
            " batch_normalization_1 (Batc  (None, 1000)             4000      \n",
            " hNormalization)                                                 \n",
            "                                                                 \n",
            " activation_7 (Activation)   (None, 1000)              0         \n",
            "                                                                 \n",
            " dropout_2 (Dropout)         (None, 1000)              0         \n",
            "                                                                 \n",
            " dense_3 (Dense)             (None, 10)                10010     \n",
            "                                                                 \n",
            " activation_8 (Activation)   (None, 10)                0         \n",
            "                                                                 \n",
            "=================================================================\n",
            "Total params: 26,919,586\n",
            "Trainable params: 26,909,394\n",
            "Non-trainable params: 10,192\n",
            "_________________________________________________________________\n"
          ]
        }
      ],
      "source": [
        "# Import library\n",
        "from tensorflow.keras.models import Sequential\n",
        "from tensorflow.keras.layers import Dense, Activation, Dropout, Flatten, Conv2D, MaxPooling2D, BatchNormalization\n",
        "\n",
        "# Initialize AlexNet as an Sequential model.\n",
        "# A Sequential model is appropriate for a plain stack of layers where each layer has exactly one input tensor and one output tensor.\n",
        "AlexNet = Sequential(name='AlexNet')\n",
        "\n",
        "# Block 1\n",
        "AlexNet.add(Conv2D(filters=64, input_shape=(28,28,1), kernel_size=(3,3), strides=(1,1), padding='same', name='Block_1_Conv')) # padding=\"same\" means input and output have the same spatial dimension.\n",
        "AlexNet.add(Activation('relu')) # Add RELU activation function\n",
        "AlexNet.add(MaxPooling2D(pool_size=(3,3), strides=(2,2), padding='same', name='Block_1_MaxPool')) # Overlapping MaxPooling since the pooling kernel (3x3) is larger than the pooing stride (2x2).\n",
        "\n",
        "# Block 2\n",
        "AlexNet.add(Conv2D(filters=128, kernel_size=(3, 3), strides=(1,1), padding='same', name='Block_2_Conv'))\n",
        "AlexNet.add(Activation('relu')) # Shorter way wot write: AlexNet.add(Conv2D(..., activation='relu'))\n",
        "AlexNet.add(MaxPooling2D(pool_size=(3,3), strides=(2,2), padding='same', name='Block_2_maxPool'))\n",
        "\n",
        "# Block 3\n",
        "AlexNet.add(Conv2D(filters=256, kernel_size=(3,3), strides=(1,1), padding='same', name='Block_3_Conv'))\n",
        "AlexNet.add(Activation('relu'))\n",
        "AlexNet.add(MaxPooling2D(pool_size=(3,3), strides=(2,2), padding='same', name='Block_3_maxPool'))\n",
        "\n",
        "# Block 4\n",
        "AlexNet.add(Conv2D(filters=512, kernel_size=(3,3), strides=(1,1), padding='same', name='Block_4_Conv'))\n",
        "AlexNet.add(Activation('relu'))\n",
        "AlexNet.add(MaxPooling2D(pool_size=(3,3), strides=(2,2), padding='same', name='Block_4_maxPool'))\n",
        "\n",
        "# Block 5\n",
        "AlexNet.add(Conv2D(filters=512, kernel_size=(3,3), strides=(1,1), padding='same', name='Block_5_Conv'))\n",
        "AlexNet.add(Activation('relu'))\n",
        "AlexNet.add(MaxPooling2D(pool_size=(3,3), strides=(2,2), padding='same', name='Block_5_MaxPool'))\n",
        "\n",
        "# Flatten\n",
        "AlexNet.add(Flatten()) # Reshape the tensor to 1D tensor so that it can be used as input of a fully connected (fc) layer\n",
        "\n",
        "# Fully connected (FC) layer 1\n",
        "AlexNet.add(Dense(4096))\n",
        "AlexNet.add(Activation('relu'))\n",
        "AlexNet.add(Dropout(rate=0.4))\n",
        "\n",
        "# Fully connected (FC) layer 2\n",
        "AlexNet.add(Dense(4096))\n",
        "AlexNet.add(BatchNormalization())    \n",
        "AlexNet.add(Activation('relu'))\n",
        "AlexNet.add(Dropout(rate=0.4)) \n",
        "\n",
        "# Fully connected (FC) layer 3\n",
        "AlexNet.add(Dense(1000))\n",
        "AlexNet.add(BatchNormalization())    \n",
        "AlexNet.add(Activation('relu'))\n",
        "AlexNet.add(Dropout(rate=0.4)) \n",
        "\n",
        "# Fully connected (FC) layer 3\n",
        "AlexNet.add(Dense(10)) # Number of output classes\n",
        "AlexNet.add(Activation('softmax')) # Classification network often ends with softmax activation function.\n",
        "\n",
        "#Model Summary\n",
        "AlexNet.summary()\n",
        "\n",
        "# Example of non-trainable parameters: statistics in BatchNormalization layers. They're updated with mean and variance, but they're not \"trained with backpropagation\"."
      ]
    },
    {
      "cell_type": "code",
      "execution_count": null,
      "metadata": {
        "id": "k6Egjxy6YfGe"
      },
      "outputs": [],
      "source": [
        "# Compile the model\n",
        "AlexNet.compile(loss = tf.keras.losses.sparse_categorical_crossentropy, # Define loss function\n",
        "                optimizer= tf.keras.optimizers.Adam(learning_rate=5e-5), metrics=['accuracy']) # Define initial learning rate and metrics."
      ]
    },
    {
      "cell_type": "code",
      "execution_count": null,
      "metadata": {
        "colab": {
          "background_save": true,
          "base_uri": "https://localhost:8080/"
        },
        "id": "kJjj7pvlYkFq",
        "outputId": "ca1dc86a-cc15-4e01-d7c0-6fb9509bfe27"
      },
      "outputs": [
        {
          "name": "stdout",
          "output_type": "stream",
          "text": [
            "Epoch 1/30\n",
            "106/106 [==============================] - 29s 103ms/step - loss: 0.6776 - accuracy: 0.7798 - val_loss: 2.2331 - val_accuracy: 0.3000\n",
            "Epoch 2/30\n",
            "106/106 [==============================] - 9s 82ms/step - loss: 0.0854 - accuracy: 0.9736 - val_loss: 2.0592 - val_accuracy: 0.7048\n",
            "Epoch 3/30\n",
            "106/106 [==============================] - 9s 83ms/step - loss: 0.0565 - accuracy: 0.9828 - val_loss: 1.5632 - val_accuracy: 0.9563\n",
            "Epoch 4/30\n",
            "106/106 [==============================] - 9s 87ms/step - loss: 0.0421 - accuracy: 0.9868 - val_loss: 0.7175 - val_accuracy: 0.9758\n",
            "Epoch 5/30\n",
            "106/106 [==============================] - 9s 88ms/step - loss: 0.0314 - accuracy: 0.9903 - val_loss: 0.2205 - val_accuracy: 0.9660\n",
            "Epoch 6/30\n",
            "106/106 [==============================] - 9s 86ms/step - loss: 0.0241 - accuracy: 0.9923 - val_loss: 0.0596 - val_accuracy: 0.9855\n",
            "Epoch 7/30\n",
            "106/106 [==============================] - 9s 86ms/step - loss: 0.0179 - accuracy: 0.9946 - val_loss: 0.0403 - val_accuracy: 0.9870\n",
            "Epoch 8/30\n",
            "106/106 [==============================] - 8s 75ms/step - loss: 0.0143 - accuracy: 0.9954 - val_loss: 0.0449 - val_accuracy: 0.9873\n",
            "Epoch 9/30\n",
            "106/106 [==============================] - 8s 75ms/step - loss: 0.0093 - accuracy: 0.9973 - val_loss: 0.0453 - val_accuracy: 0.9877\n",
            "Epoch 10/30\n",
            "106/106 [==============================] - 9s 84ms/step - loss: 0.0079 - accuracy: 0.9977 - val_loss: 0.0347 - val_accuracy: 0.9907\n",
            "Epoch 11/30\n",
            "106/106 [==============================] - 8s 74ms/step - loss: 0.0058 - accuracy: 0.9986 - val_loss: 0.0592 - val_accuracy: 0.9842\n",
            "Epoch 12/30\n",
            "106/106 [==============================] - 8s 76ms/step - loss: 0.0049 - accuracy: 0.9988 - val_loss: 0.0445 - val_accuracy: 0.9888\n",
            "Epoch 13/30\n",
            "106/106 [==============================] - 9s 83ms/step - loss: 0.0049 - accuracy: 0.9987 - val_loss: 0.0326 - val_accuracy: 0.9913\n",
            "Epoch 14/30\n",
            "106/106 [==============================] - 9s 85ms/step - loss: 0.0028 - accuracy: 0.9995 - val_loss: 0.0309 - val_accuracy: 0.9912\n",
            "Epoch 15/30\n",
            "106/106 [==============================] - 8s 76ms/step - loss: 0.0022 - accuracy: 0.9995 - val_loss: 0.0483 - val_accuracy: 0.9882\n",
            "Epoch 16/30\n",
            "106/106 [==============================] - 8s 74ms/step - loss: 0.0026 - accuracy: 0.9993 - val_loss: 0.0414 - val_accuracy: 0.9905\n",
            "Epoch 17/30\n",
            "106/106 [==============================] - 9s 87ms/step - loss: 0.0021 - accuracy: 0.9995 - val_loss: 0.0291 - val_accuracy: 0.9927\n",
            "Epoch 18/30\n",
            "106/106 [==============================] - 8s 75ms/step - loss: 0.0025 - accuracy: 0.9995 - val_loss: 0.0554 - val_accuracy: 0.9857\n",
            "Epoch 19/30\n",
            "106/106 [==============================] - 8s 75ms/step - loss: 0.0020 - accuracy: 0.9996 - val_loss: 0.0577 - val_accuracy: 0.9868\n",
            "Epoch 20/30\n",
            "106/106 [==============================] - 8s 78ms/step - loss: 0.0014 - accuracy: 0.9998 - val_loss: 0.0382 - val_accuracy: 0.9913\n",
            "Epoch 21/30\n",
            "106/106 [==============================] - 9s 84ms/step - loss: 7.8962e-04 - accuracy: 0.9999 - val_loss: 0.0289 - val_accuracy: 0.9930\n",
            "Epoch 22/30\n",
            "106/106 [==============================] - 8s 74ms/step - loss: 0.0022 - accuracy: 0.9994 - val_loss: 0.0393 - val_accuracy: 0.9895\n",
            "Epoch 23/30\n",
            "106/106 [==============================] - 8s 74ms/step - loss: 0.0044 - accuracy: 0.9988 - val_loss: 0.0865 - val_accuracy: 0.9798\n",
            "Epoch 24/30\n",
            "106/106 [==============================] - 8s 74ms/step - loss: 0.0060 - accuracy: 0.9982 - val_loss: 0.3506 - val_accuracy: 0.9258\n",
            "Epoch 25/30\n",
            "106/106 [==============================] - 8s 74ms/step - loss: 0.0037 - accuracy: 0.9989 - val_loss: 0.0719 - val_accuracy: 0.9837\n",
            "Epoch 26/30\n",
            "106/106 [==============================] - 8s 74ms/step - loss: 0.0063 - accuracy: 0.9982 - val_loss: 0.1061 - val_accuracy: 0.9772\n",
            "Epoch 27/30\n",
            "106/106 [==============================] - 8s 74ms/step - loss: 0.0029 - accuracy: 0.9992 - val_loss: 0.0668 - val_accuracy: 0.9847\n",
            "Epoch 28/30\n",
            "106/106 [==============================] - 8s 74ms/step - loss: 0.0013 - accuracy: 0.9997 - val_loss: 0.0582 - val_accuracy: 0.9880\n",
            "Epoch 29/30\n",
            "106/106 [==============================] - 8s 75ms/step - loss: 0.0016 - accuracy: 0.9995 - val_loss: 0.0511 - val_accuracy: 0.9890\n",
            "Epoch 30/30\n",
            "106/106 [==============================] - 8s 75ms/step - loss: 0.0016 - accuracy: 0.9995 - val_loss: 0.0936 - val_accuracy: 0.9800\n"
          ]
        }
      ],
      "source": [
        "### Create a callback ModelCheckpoint: this callback will save a better version of model every time the optimizer finds one. \n",
        "#### filepath: path to save the better model.\n",
        "#### monitor: metrics to identify how a model is considered to be better.\n",
        "#### mode='auto'/'max'/'min': to tell if the larger/smaller the metric, the better the model.\n",
        "#### verbose: output log.\n",
        "#### save_best_only: only save the best model instead off all better models along the training.\n",
        "\n",
        "# Create a callback ModelCheckpoint. This callback will save the model when finding one better than the current best.\n",
        "mc = keras.callbacks.ModelCheckpoint(filepath=\"epoch-{epoch:02d}.hdf5\", # Path to save the model\n",
        "                                     monitor='val_loss', # Metric to evaluate the model performance when looking for a better model.\n",
        "                                     mode='min', # mode='auto'/'max'/'min': the monitor should be max/min to be better. \n",
        "                                                 # In auto mode, the mode is set to max if the quantities monitored are 'acc' or start with 'fmeasure' (f-score) and are set to min for the rest of the quantities.\n",
        "                                     verbose=0, # Inform every time a better model is found and saved.\n",
        "                                     save_best_only=True) # Only save the model if the current training epoch is the best. 'False' means save models of all training epochs\n",
        "\n",
        "# Train the model. Using Colab for training\n",
        "history = AlexNet.fit(X_train, y_train, # Data feature and data label\n",
        "                    batch_size=512, # Batch size\n",
        "                    epochs=30, # Number of training epochs\n",
        "                    validation_data=(X_val, y_val), # Validation set\n",
        "                    callbacks=[mc]) # Use callback ModelCheckpoint during the training\n",
        "\n"
      ]
    },
    {
      "cell_type": "code",
      "execution_count": null,
      "metadata": {
        "colab": {
          "base_uri": "https://localhost:8080/",
          "height": 282
        },
        "id": "mlDHSQjgZk22",
        "outputId": "63244b3f-94a2-4372-81c1-b2917153b973"
      },
      "outputs": [
        {
          "data": {
            "text/plain": [
              "<matplotlib.legend.Legend at 0x7f5b60a52a30>"
            ]
          },
          "execution_count": 10,
          "metadata": {},
          "output_type": "execute_result"
        },
        {
          "data": {
            "image/png": "[encoded data removed]",
            "text/plain": [
              "<Figure size 432x288 with 2 Axes>"
            ]
          },
          "metadata": {},
          "output_type": "display_data"
        }
      ],
      "source": [
        "# Visualize training and validation performance\n",
        "f,ax=plt.subplots(2,1) \n",
        "\n",
        "# Plot training and validation loss\n",
        "ax[0].plot(history.history['loss'], color='b',label='Training Loss')\n",
        "ax[0].plot(history.history['val_loss'],color='r',label='Validation Loss')\n",
        "\n",
        "# Plot training and validation accuracy\n",
        "ax[1].plot(history.history['accuracy'],color='b',label='Training Accuracy')\n",
        "ax[1].plot(history.history['val_accuracy'],color='r',label='Validation Accuracy')\n",
        "\n",
        "plt.legend()"
      ]
    },
    {
      "cell_type": "code",
      "execution_count": null,
      "metadata": {
        "colab": {
          "base_uri": "https://localhost:8080/"
        },
        "id": "FcNTI8mpZoZ_",
        "outputId": "e51e5782-5cf3-4faa-b033-e83fe536c9e4"
      },
      "outputs": [
        {
          "name": "stdout",
          "output_type": "stream",
          "text": [
            "313/313 [==============================] - 2s 5ms/step - loss: 0.0405 - accuracy: 0.9903\n"
          ]
        }
      ],
      "source": [
        "# Let us load a saved model and evaluate its performance on the test set\n",
        "model = tf.keras.models.load_model(\"/content/epoch-21.hdf5\")\n",
        "result = AlexNet.evaluate(X_test, y_test) # If unspecified, batch_size will default to 32"
      ]
    },
    {
      "cell_type": "code",
      "execution_count": null,
      "metadata": {
        "colab": {
          "base_uri": "https://localhost:8080/"
        },
        "id": "oKLMmQWhZvoY",
        "outputId": "d915aaf2-3fef-4c15-eb70-257c90e338c9"
      },
      "outputs": [
        {
          "name": "stdout",
          "output_type": "stream",
          "text": [
            "['loss', 'accuracy']\n",
            "Loss and accuracy on the test set: loss = 0.040459029376506805, accuracy = 0.9902999997138977\n"
          ]
        }
      ],
      "source": [
        "# Show the model performance\n",
        "print(AlexNet.metrics_names) # result[0] is loss, result[1] is accuracy. The metrics are defined in AlexNet.complie(...)\n",
        "print(\"Loss and accuracy on the test set: loss = {}, accuracy = {}\".format(result[0],result[1]))"
      ]
    },
    {
      "cell_type": "code",
      "execution_count": null,
      "metadata": {
        "id": "rDYPlkNnZygn"
      },
      "outputs": [],
      "source": [
        "# Save the model as an h5 file\n",
        "model.save('my_model.h5')"
      ]
    },
    {
      "cell_type": "code",
      "execution_count": null,
      "metadata": {
        "colab": {
          "base_uri": "https://localhost:8080/"
        },
        "id": "ytN1FDD1Z3Pi",
        "outputId": "9a92f565-10fe-4d7f-d71f-2faf77943858"
      },
      "outputs": [
        {
          "name": "stdout",
          "output_type": "stream",
          "text": [
            "1/1 [==============================] - 0s 192ms/step\n",
            "[9]\n"
          ]
        }
      ],
      "source": [
        "# Load the trained model\n",
        "model.load_weights('my_model.h5')\n",
        "\n",
        "# Make predictions on new data\n",
        "predictions = model.predict(X_test[999:1000])\n",
        "print(np.argmax(predictions, axis=1))"
      ]
    },
    {
      "cell_type": "code",
      "execution_count": null,
      "metadata": {
        "colab": {
          "base_uri": "https://localhost:8080/",
          "height": 265
        },
        "id": "bRq85B1IavIU",
        "outputId": "a0590e4d-bdbd-42cc-face-fded546be141"
      },
      "outputs": [
        {
          "data": {
            "image/png": "[encoded data removed]",
            "text/plain": [
              "<Figure size 432x288 with 1 Axes>"
            ]
          },
          "metadata": {},
          "output_type": "display_data"
        }
      ],
      "source": [
        "# Show an image\n",
        "plt.imshow(X_test[1000,:,:])\n",
        "plt.show()"
      ]
    }
  ],
  "metadata": {
    "accelerator": "GPU",
    "colab": {
      "provenance": []
    },
    "kernelspec": {
      "display_name": "Python 3 (ipykernel)",
      "language": "python",
      "name": "python3"
    },
    "language_info": {
      "codemirror_mode": {
        "name": "ipython",
        "version": 3
      },
      "file_extension": ".py",
      "mimetype": "text/x-python",
      "name": "python",
      "nbconvert_exporter": "python",
      "pygments_lexer": "ipython3",
      "version": "3.8.3"
    }
  },
  "nbformat": 4,
  "nbformat_minor": 0
}